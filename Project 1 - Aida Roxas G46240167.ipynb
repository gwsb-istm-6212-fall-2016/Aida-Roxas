{
 "cells": [
  {
   "cell_type": "markdown",
   "metadata": {},
   "source": [
    "# George Washington University\n",
    "## MS in Business Analytics\n",
    "### ISTM 6212 - Data Management for Analytics\n",
    "#### Fall 2016\n",
    "### Aida Roxas (G46240167)"
   ]
  },
  {
   "cell_type": "markdown",
   "metadata": {},
   "source": [
    "### Problem 1 - Word counts (40 points)"
   ]
  },
  {
   "cell_type": "markdown",
   "metadata": {},
   "source": [
    "Let's set everything up.<br / >"
   ]
  },
  {
   "cell_type": "code",
   "execution_count": 1,
   "metadata": {
    "collapsed": true
   },
   "outputs": [],
   "source": [
    "!mkdir project-1-Roxas"
   ]
  },
  {
   "cell_type": "code",
   "execution_count": 2,
   "metadata": {
    "collapsed": false
   },
   "outputs": [
    {
     "name": "stdout",
     "output_type": "stream",
     "text": [
      "/home/amroxas/Downloads/project-1-Roxas\n"
     ]
    }
   ],
   "source": [
    "cd project-1-Roxas"
   ]
  },
  {
   "cell_type": "markdown",
   "metadata": {},
   "source": [
    "#### Part A. Characters in Little Women"
   ]
  },
  {
   "cell_type": "markdown",
   "metadata": {},
   "source": [
    "How many times are each of the following characters mentioned by name in the text of Little Women? <br />\n",
    "(Characters are: Jo, Beth, Meg, Amy)"
   ]
  },
  {
   "cell_type": "markdown",
   "metadata": {},
   "source": [
    "First, lets get the file from https://www.gutenberg.org and rename it."
   ]
  },
  {
   "cell_type": "code",
   "execution_count": 3,
   "metadata": {
    "collapsed": false
   },
   "outputs": [
    {
     "name": "stdout",
     "output_type": "stream",
     "text": [
      "--2016-09-23 01:42:04--  http://www.gutenberg.org/files/514/514.txt\n",
      "Resolving www.gutenberg.org (www.gutenberg.org)... 152.19.134.47, 2610:28:3090:3000:0:bad:cafe:47\n",
      "Connecting to www.gutenberg.org (www.gutenberg.org)|152.19.134.47|:80... connected.\n",
      "HTTP request sent, awaiting response... 200 OK\n",
      "Length: 1053438 (1.0M) [text/plain]\n",
      "Saving to: ‘514.txt’\n",
      "\n",
      "514.txt             100%[===================>]   1.00M  4.07MB/s    in 0.2s    \n",
      "\n",
      "2016-09-23 01:42:04 (4.07 MB/s) - ‘514.txt’ saved [1053438/1053438]\n",
      "\n"
     ]
    }
   ],
   "source": [
    "!wget http://www.gutenberg.org/files/514/514.txt"
   ]
  },
  {
   "cell_type": "code",
   "execution_count": 4,
   "metadata": {
    "collapsed": true
   },
   "outputs": [],
   "source": [
    "!mv 514.txt women.txt"
   ]
  },
  {
   "cell_type": "markdown",
   "metadata": {},
   "source": [
    "We will use grep -o to count the word everytime it shows up in the line. We will also enclose the name to include whitespace to make sure we are only looking for the word. For instance, we only want to count \"Jo\" not \"Joanne\"."
   ]
  },
  {
   "cell_type": "code",
   "execution_count": 5,
   "metadata": {
    "collapsed": false
   },
   "outputs": [
    {
     "name": "stdout",
     "output_type": "stream",
     "text": [
      "550\r\n"
     ]
    }
   ],
   "source": [
    "!grep -o ' Jo ' women.txt | wc -l"
   ]
  },
  {
   "cell_type": "code",
   "execution_count": 6,
   "metadata": {
    "collapsed": false
   },
   "outputs": [
    {
     "name": "stdout",
     "output_type": "stream",
     "text": [
      "190\r\n"
     ]
    }
   ],
   "source": [
    "!grep -o ' Beth ' women.txt | wc -l"
   ]
  },
  {
   "cell_type": "code",
   "execution_count": 7,
   "metadata": {
    "collapsed": false
   },
   "outputs": [
    {
     "name": "stdout",
     "output_type": "stream",
     "text": [
      "297\r\n"
     ]
    }
   ],
   "source": [
    "!grep -o ' Meg ' women.txt | wc -l"
   ]
  },
  {
   "cell_type": "code",
   "execution_count": 8,
   "metadata": {
    "collapsed": false
   },
   "outputs": [
    {
     "name": "stdout",
     "output_type": "stream",
     "text": [
      "282\r\n"
     ]
    }
   ],
   "source": [
    "!grep -o ' Amy ' women.txt | wc -l"
   ]
  },
  {
   "cell_type": "markdown",
   "metadata": {},
   "source": [
    "#### Part B. Juliet and Romeo in Romeo and Juliet"
   ]
  },
  {
   "cell_type": "markdown",
   "metadata": {},
   "source": [
    "How many times do each of the characters Juliet and Romeo have speaking lines in Romeo and Juliet? <br>\n",
    "First, let's get the file and rename to romeo.txt."
   ]
  },
  {
   "cell_type": "markdown",
   "metadata": {},
   "source": [
    " "
   ]
  },
  {
   "cell_type": "code",
   "execution_count": 9,
   "metadata": {
    "collapsed": false
   },
   "outputs": [
    {
     "name": "stdout",
     "output_type": "stream",
     "text": [
      "--2016-09-23 01:42:05--  http://www.gutenberg.org/cache/epub/1777/pg1777.txt\n",
      "Resolving www.gutenberg.org (www.gutenberg.org)... 152.19.134.47, 2610:28:3090:3000:0:bad:cafe:47\n",
      "Connecting to www.gutenberg.org (www.gutenberg.org)|152.19.134.47|:80... connected.\n",
      "HTTP request sent, awaiting response... 200 OK\n",
      "Length: 168893 (165K) [text/plain]\n",
      "Saving to: ‘pg1777.txt’\n",
      "\n",
      "pg1777.txt          100%[===================>] 164.93K  --.-KB/s    in 0.1s    \n",
      "\n",
      "2016-09-23 01:42:05 (1.46 MB/s) - ‘pg1777.txt’ saved [168893/168893]\n",
      "\n"
     ]
    }
   ],
   "source": [
    "!wget http://www.gutenberg.org/cache/epub/1777/pg1777.txt"
   ]
  },
  {
   "cell_type": "code",
   "execution_count": 10,
   "metadata": {
    "collapsed": false
   },
   "outputs": [],
   "source": [
    "!mv pg1777.txt romeo.txt"
   ]
  },
  {
   "cell_type": "markdown",
   "metadata": {},
   "source": [
    "Speaking lines are marked, in this case, Juliet is \"Jul.\" and Romeo is \"Rom.\". So counting how many lines will have those key words will count how many times these character has speaking lines.  "
   ]
  },
  {
   "cell_type": "code",
   "execution_count": 11,
   "metadata": {
    "collapsed": false
   },
   "outputs": [
    {
     "name": "stdout",
     "output_type": "stream",
     "text": [
      "117\r\n"
     ]
    }
   ],
   "source": [
    "!grep ' Jul. ' romeo.txt | wc -l"
   ]
  },
  {
   "cell_type": "code",
   "execution_count": 12,
   "metadata": {
    "collapsed": false
   },
   "outputs": [
    {
     "name": "stdout",
     "output_type": "stream",
     "text": [
      "163\r\n"
     ]
    }
   ],
   "source": [
    "!grep ' Rom. ' romeo.txt | wc -l"
   ]
  },
  {
   "cell_type": "markdown",
   "metadata": {},
   "source": [
    "Notice that we do not need the -o for the grep command since these words will only occur once in a single line to indicate speaking lines for the character."
   ]
  },
  {
   "cell_type": "markdown",
   "metadata": {},
   "source": [
    "### Problem 2 - Capital Bikeshare (40 points)"
   ]
  },
  {
   "cell_type": "markdown",
   "metadata": {},
   "source": [
    "We will need the 2016 Q1 zip file from Capital Bikeshare and unzip it. Let's do it!"
   ]
  },
  {
   "cell_type": "code",
   "execution_count": 13,
   "metadata": {
    "collapsed": false
   },
   "outputs": [
    {
     "name": "stdout",
     "output_type": "stream",
     "text": [
      "--2016-09-23 01:42:06--  https://s3.amazonaws.com/capitalbikeshare-data/2016-Q1-cabi-trip-history-data.zip\n",
      "Resolving s3.amazonaws.com (s3.amazonaws.com)... 52.216.64.251\n",
      "Connecting to s3.amazonaws.com (s3.amazonaws.com)|52.216.64.251|:443... connected.\n",
      "HTTP request sent, awaiting response... 200 OK\n",
      "Length: 11048826 (11M) [application/zip]\n",
      "Saving to: ‘2016-Q1-cabi-trip-history-data.zip’\n",
      "\n",
      "2016-Q1-cabi-trip-h 100%[===================>]  10.54M  9.00MB/s    in 1.2s    \n",
      "\n",
      "2016-09-23 01:42:07 (9.00 MB/s) - ‘2016-Q1-cabi-trip-history-data.zip’ saved [11048826/11048826]\n",
      "\n"
     ]
    }
   ],
   "source": [
    "!wget https://s3.amazonaws.com/capitalbikeshare-data/2016-Q1-cabi-trip-history-data.zip"
   ]
  },
  {
   "cell_type": "code",
   "execution_count": 14,
   "metadata": {
    "collapsed": false,
    "scrolled": true
   },
   "outputs": [
    {
     "name": "stdout",
     "output_type": "stream",
     "text": [
      "Archive:  2016-Q1-cabi-trip-history-data.zip\n",
      "  inflating: 2016-Q1-Trips-History-Data.csv  \n"
     ]
    }
   ],
   "source": [
    "!unzip 2016-Q1-cabi-trip-history-data.zip"
   ]
  },
  {
   "cell_type": "markdown",
   "metadata": {},
   "source": [
    "Let's rename this file to Q1-2016.csv"
   ]
  },
  {
   "cell_type": "code",
   "execution_count": 15,
   "metadata": {
    "collapsed": false
   },
   "outputs": [],
   "source": [
    "!mv 2016-Q1-Trips-History-Data.csv Q1-2016.csv"
   ]
  },
  {
   "cell_type": "markdown",
   "metadata": {},
   "source": [
    "#### Part A (20 points)"
   ]
  },
  {
   "cell_type": "markdown",
   "metadata": {},
   "source": [
    "Which 10 Capital Bikeshare stations were the most popular departing stations in Q1 2016? <br>\n",
    "Which 10 were the most popular destination stations in Q1 2016?"
   ]
  },
  {
   "cell_type": "markdown",
   "metadata": {
    "collapsed": true
   },
   "source": [
    "Let's find out the header titles the file has"
   ]
  },
  {
   "cell_type": "code",
   "execution_count": 16,
   "metadata": {
    "collapsed": false
   },
   "outputs": [
    {
     "name": "stdout",
     "output_type": "stream",
     "text": [
      "  1: Duration (ms)\r\n",
      "  2: Start date\r\n",
      "  3: End date\r\n",
      "  4: Start station number\r\n",
      "  5: Start station\r\n",
      "  6: End station number\r\n",
      "  7: End station\r\n",
      "  8: Bike number\r\n",
      "  9: Member Type\r\n"
     ]
    }
   ],
   "source": [
    "!csvcut -n Q1-2016.csv"
   ]
  },
  {
   "cell_type": "markdown",
   "metadata": {
    "collapsed": false
   },
   "source": [
    "We only need to look at column 4 and 5 and do our sort and count."
   ]
  },
  {
   "cell_type": "code",
   "execution_count": 17,
   "metadata": {
    "collapsed": false
   },
   "outputs": [
    {
     "name": "stdout",
     "output_type": "stream",
     "text": [
      "sort: |----------------+------------------------------------------------------|\r\n",
      "|    13120 31623 | Columbus Circle / Union Station                      |\r\n",
      "|----------------+------------------------------------------------------|\r\n",
      "|     9560 31200 | Massachusetts Ave & Dupont Circle NW                 |\r\n",
      "|     9388 31258 | Lincoln Memorial                                     |\r\n",
      "|     8138 31247 | Jefferson Dr & 14th St SW                            |\r\n",
      "|     7479 31241 | Thomas Circle                                        |\r\n",
      "|     7401 31201 | 15th & P St NW                                       |\r\n",
      "|     6568 31101 | 14th & V St NW                                       |\r\n",
      "|     6491 31229 | New Hampshire Ave & T St NW                          |\r\n",
      "|     5649 31613 | Eastern Market Metro / Pennsylvania Ave & 7th St SE  |\r\n",
      "|     5514 31214 | 17th & Corcoran St NW                                |\r\n",
      "|----------------+------------------------------------------------------|\r\n",
      "write failed: 'standard output': Broken pipe\r\n",
      "sort: write error\r\n"
     ]
    }
   ],
   "source": [
    "!csvcut -c 4,5 Q1-2016.csv | csvsort -c 1 | uniq -c | sort -rn | head -10 | csvlook"
   ]
  },
  {
   "cell_type": "markdown",
   "metadata": {},
   "source": [
    "We lost the headers since it was included and the sort. Minor setback, but this is the top 10 most popular departing stations. To check, we can use csvstat and find the top 5 looking at column 5."
   ]
  },
  {
   "cell_type": "code",
   "execution_count": 18,
   "metadata": {
    "collapsed": false
   },
   "outputs": [
    {
     "name": "stdout",
     "output_type": "stream",
     "text": [
      "  5. Start station\r\n",
      "\t<class 'str'>\r\n",
      "\tNulls: False\r\n",
      "\tUnique values: 370\r\n",
      "\t5 most frequent values:\r\n",
      "\t\tColumbus Circle / Union Station:\t13120\r\n",
      "\t\tMassachusetts Ave & Dupont Circle NW:\t9560\r\n",
      "\t\tLincoln Memorial:\t9388\r\n",
      "\t\tJefferson Dr & 14th St SW:\t8138\r\n",
      "\t\tThomas Circle:\t7479\r\n",
      "\tMax length: 64\r\n",
      "\r\n",
      "Row count: 552399\r\n"
     ]
    }
   ],
   "source": [
    "!csvstat -c 5 Q1-2016.csv"
   ]
  },
  {
   "cell_type": "markdown",
   "metadata": {
    "collapsed": true
   },
   "source": [
    "Now, to get the most popular destination, we will do the same but will just look at column 6 & 7 this time."
   ]
  },
  {
   "cell_type": "code",
   "execution_count": 19,
   "metadata": {
    "collapsed": false
   },
   "outputs": [
    {
     "name": "stdout",
     "output_type": "stream",
     "text": [
      "|----------------+---------------------------------------|\r\n",
      "|    13880 31623 | Columbus Circle / Union Station       |\r\n",
      "|----------------+---------------------------------------|\r\n",
      "|    11183 31200 | Massachusetts Ave & Dupont Circle NW  |\r\n",
      "|     9419 31258 | Lincoln Memorial                      |\r\n",
      "|     8975 31247 | Jefferson Dr & 14th St SW             |\r\n",
      "|     8092 31201 | 15th & P St NW                        |\r\n",
      "|     7267 31101 | 14th & V St NW                        |\r\n",
      "|     6997 31241 | Thomas Circle                         |\r\n",
      "|     6245 31229 | New Hampshire Ave & T St NW           |\r\n",
      "|     5761 31600 | 5th & K St NW                         |\r\n",
      "|     5651 31214 | 17th & Corcoran St NW                 |\r\n",
      "|----------------+---------------------------------------|\r\n"
     ]
    }
   ],
   "source": [
    "!csvcut -c 6,7 Q1-2016.csv | csvsort -c 1 | uniq -c | sort -rn | head -10 | csvlook"
   ]
  },
  {
   "cell_type": "markdown",
   "metadata": {
    "collapsed": true
   },
   "source": [
    "We can do the verification again, just to make sure."
   ]
  },
  {
   "cell_type": "code",
   "execution_count": 20,
   "metadata": {
    "collapsed": false
   },
   "outputs": [
    {
     "name": "stdout",
     "output_type": "stream",
     "text": [
      "  7. End station\r\n",
      "\t<class 'str'>\r\n",
      "\tNulls: False\r\n",
      "\tUnique values: 370\r\n",
      "\t5 most frequent values:\r\n",
      "\t\tColumbus Circle / Union Station:\t13880\r\n",
      "\t\tMassachusetts Ave & Dupont Circle NW:\t11183\r\n",
      "\t\tLincoln Memorial:\t9419\r\n",
      "\t\tJefferson Dr & 14th St SW:\t8975\r\n",
      "\t\t15th & P St NW:\t8092\r\n",
      "\tMax length: 64\r\n",
      "\r\n",
      "Row count: 552399\r\n"
     ]
    }
   ],
   "source": [
    "!csvstat -c 7 Q1-2016.csv"
   ]
  },
  {
   "cell_type": "markdown",
   "metadata": {
    "collapsed": true
   },
   "source": [
    "#### Part B (20 points) <br>\n",
    "For the most popular departure station, which 10 bikes were used most in trips departing from there? <br>\n",
    "Which 10 bikes were used most in trips ending at the most popular destination station?"
   ]
  },
  {
   "cell_type": "markdown",
   "metadata": {
    "collapsed": true
   },
   "source": [
    "So, from above we know that the most popular departure station is station number 31623. We just need to look at this station and sort the bike number and get the top 10."
   ]
  },
  {
   "cell_type": "code",
   "execution_count": 21,
   "metadata": {
    "collapsed": false
   },
   "outputs": [
    {
     "name": "stdout",
     "output_type": "stream",
     "text": [
      "sort: write failed: 'standard output': Broken pipe\r\n",
      "sort: write error\r\n",
      "|-----------------+---------------------------------+--------|\r\n",
      "|       17 W22227 | Columbus Circle / Union Station | 31623  |\r\n",
      "|-----------------+---------------------------------+--------|\r\n",
      "|       16 W21867 | Columbus Circle / Union Station | 31623  |\r\n",
      "|       16 W21641 | Columbus Circle / Union Station | 31623  |\r\n",
      "|       16 W21538 | Columbus Circle / Union Station | 31623  |\r\n",
      "|       16 W21239 | Columbus Circle / Union Station | 31623  |\r\n",
      "|       16 W20540 | Columbus Circle / Union Station | 31623  |\r\n",
      "|       16 W00714 | Columbus Circle / Union Station | 31623  |\r\n",
      "|       15 W22080 | Columbus Circle / Union Station | 31623  |\r\n",
      "|       15 W21450 | Columbus Circle / Union Station | 31623  |\r\n",
      "|       15 W21076 | Columbus Circle / Union Station | 31623  |\r\n",
      "|-----------------+---------------------------------+--------|\r\n"
     ]
    }
   ],
   "source": [
    "!csvcut -c 8,5,4 Q1-2016.csv | csvgrep -c 3 -m '31623' | csvsort -c 1 | uniq -c | sort -rn | head -10 | csvlook"
   ]
  },
  {
   "cell_type": "markdown",
   "metadata": {},
   "source": [
    "Again, we lose the header, but we have our answer.<br>\n",
    "Let's do CVSTAT here real quick to verify the top 5 at least."
   ]
  },
  {
   "cell_type": "code",
   "execution_count": 22,
   "metadata": {
    "collapsed": false
   },
   "outputs": [
    {
     "name": "stdout",
     "output_type": "stream",
     "text": [
      "  3. Bike number\r\n",
      "\t<class 'str'>\r\n",
      "\tNulls: False\r\n",
      "\tUnique values: 2992\r\n",
      "\t5 most frequent values:\r\n",
      "\t\tW22227:\t17\r\n",
      "\t\tW20540:\t16\r\n",
      "\t\tW00714:\t16\r\n",
      "\t\tW21239:\t16\r\n",
      "\t\tW21641:\t16\r\n",
      "\tMax length: 6\r\n",
      "\r\n",
      "Row count: 13120\r\n"
     ]
    }
   ],
   "source": [
    "!csvcut -c 4,5,8 Q1-2016.csv | csvgrep -c 1 -m '31623' | csvstat -c 3"
   ]
  },
  {
   "cell_type": "markdown",
   "metadata": {},
   "source": [
    "The most popular destination is the same station number, so let's find the top bikes over there."
   ]
  },
  {
   "cell_type": "code",
   "execution_count": 23,
   "metadata": {
    "collapsed": false
   },
   "outputs": [
    {
     "name": "stdout",
     "output_type": "stream",
     "text": [
      "sort: write failed: 'standard output': Broken pipe\r\n",
      "sort: write error\r\n",
      "|-----------------+---------------------------------+--------|\r\n",
      "|       18 W00485 | Columbus Circle / Union Station | 31623  |\r\n",
      "|-----------------+---------------------------------+--------|\r\n",
      "|       17 W22227 | Columbus Circle / Union Station | 31623  |\r\n",
      "|       16 W22099 | Columbus Circle / Union Station | 31623  |\r\n",
      "|       16 W22080 | Columbus Circle / Union Station | 31623  |\r\n",
      "|       16 W21239 | Columbus Circle / Union Station | 31623  |\r\n",
      "|       16 W21076 | Columbus Circle / Union Station | 31623  |\r\n",
      "|       16 W20425 | Columbus Circle / Union Station | 31623  |\r\n",
      "|       16 W00714 | Columbus Circle / Union Station | 31623  |\r\n",
      "|       15 W21997 | Columbus Circle / Union Station | 31623  |\r\n",
      "|       15 W21867 | Columbus Circle / Union Station | 31623  |\r\n",
      "|-----------------+---------------------------------+--------|\r\n"
     ]
    }
   ],
   "source": [
    "!csvcut -c 8,7,6 Q1-2016.csv | csvgrep -c 3 -m '31623' | csvsort -c 1 | uniq -c | sort -rn | head -10 | csvlook"
   ]
  },
  {
   "cell_type": "markdown",
   "metadata": {},
   "source": [
    "Checking STATs"
   ]
  },
  {
   "cell_type": "code",
   "execution_count": 24,
   "metadata": {
    "collapsed": false
   },
   "outputs": [
    {
     "name": "stdout",
     "output_type": "stream",
     "text": [
      "  3. Bike number\r\n",
      "\t<class 'str'>\r\n",
      "\tNulls: False\r\n",
      "\tUnique values: 3027\r\n",
      "\t5 most frequent values:\r\n",
      "\t\tW00485:\t18\r\n",
      "\t\tW22227:\t17\r\n",
      "\t\tW20425:\t16\r\n",
      "\t\tW00714:\t16\r\n",
      "\t\tW22099:\t16\r\n",
      "\tMax length: 6\r\n",
      "\r\n",
      "Row count: 13880\r\n"
     ]
    }
   ],
   "source": [
    "!csvcut -c 6,7,8 Q1-2016.csv | csvgrep -c 1 -m '31623' | csvstat -c 3"
   ]
  },
  {
   "cell_type": "markdown",
   "metadata": {},
   "source": [
    "Notice that the sort formula we used, sorts the bike numbers in desending order as well. Our STAT check lists the bike numbers in ascending order so the bike lists may seem to be different."
   ]
  },
  {
   "cell_type": "markdown",
   "metadata": {},
   "source": [
    "### Problem 3 - Filters (20 points)"
   ]
  },
  {
   "cell_type": "markdown",
   "metadata": {},
   "source": [
    "#### Part A (10 points) <br>\n",
    "Demonstrate a pipeline that performs a count of the top ten unique words in Little Women. This may be exactly the same pipeline we have used before. <br> <br>\n",
    "Write a Python filter than replaces grep -oE '\\w{2,}' to split lines of text into one word per line, and write an additional Python filter to replace tr '[:upper:]' '[:lower:]' to transform text into lower case.<br> <br>\n",
    "With your two new filters, repeat the original pipeline, and substitute your new filters as appropriate. You should obtain the same results.<br> <br>"
   ]
  },
  {
   "cell_type": "code",
   "execution_count": 25,
   "metadata": {
    "collapsed": false
   },
   "outputs": [
    {
     "name": "stdout",
     "output_type": "stream",
     "text": [
      "   8155 and\r\n",
      "   7689 the\r\n",
      "   5152 to\r\n",
      "   3523 of\r\n",
      "   3245 her\r\n",
      "   2774 it\r\n",
      "   2503 in\r\n",
      "   2447 you\r\n",
      "   2343 she\r\n",
      "   2233 for\r\n",
      "sort: write failed: 'standard output': Broken pipe\r\n",
      "sort: write error\r\n"
     ]
    }
   ],
   "source": [
    "!cat women.txt | grep -oE '\\w{{2,}}' | tr '[:upper:]' '[:lower:]' | sort | uniq -c | sort -rn | head -10"
   ]
  },
  {
   "cell_type": "markdown",
   "metadata": {
    "collapsed": true
   },
   "source": [
    "### Part B (10 points) <br>\n",
    "Write a Python filter that removes at least ten common words of English text, commonly known as “stop words”. Sources of English stop word lists are readily available online, or you may generate your own list from the text. <br> <br>\n",
    "Add your stop word filter to a word count pipeline and show the top 25 words in Little Women with stop words removed. You may re-use your filters from Part A if you wish, although this is not required for full credit.\n"
   ]
  }
 ],
 "metadata": {
  "anaconda-cloud": {},
  "kernelspec": {
   "display_name": "Python [Root]",
   "language": "python",
   "name": "Python [Root]"
  },
  "language_info": {
   "codemirror_mode": {
    "name": "ipython",
    "version": 3
   },
   "file_extension": ".py",
   "mimetype": "text/x-python",
   "name": "python",
   "nbconvert_exporter": "python",
   "pygments_lexer": "ipython3",
   "version": "3.5.2"
  }
 },
 "nbformat": 4,
 "nbformat_minor": 0
}
